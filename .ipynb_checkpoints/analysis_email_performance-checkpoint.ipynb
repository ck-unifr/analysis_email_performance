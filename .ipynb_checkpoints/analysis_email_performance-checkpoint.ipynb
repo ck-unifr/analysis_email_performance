{
 "cells": [
  {
   "cell_type": "code",
   "execution_count": null,
   "metadata": {},
   "outputs": [],
   "source": []
  },
  {
   "cell_type": "code",
   "execution_count": 1,
   "metadata": {},
   "outputs": [],
   "source": [
    "import time\n",
    "\n",
    "# data processing library\n",
    "import numpy as np\n",
    "import pandas as pd\n",
    "from functools import reduce\n",
    "import collections\n",
    "\n",
    "# data visualization library  \n",
    "import seaborn as sns \n",
    "import matplotlib.pyplot as plt\n",
    "%matplotlib inline\n",
    "import scipy.stats as stats\n",
    "\n",
    "import warnings\n",
    "warnings.filterwarnings(\"ignore\")\n"
   ]
  },
  {
   "cell_type": "code",
   "execution_count": null,
   "metadata": {},
   "outputs": [],
   "source": []
  },
  {
   "cell_type": "markdown",
   "metadata": {},
   "source": [
    "# Read Data"
   ]
  },
  {
   "cell_type": "markdown",
   "metadata": {},
   "source": [
    "## Description of the fields\n",
    "\n",
    "- HCP_ID\n",
    "    - HCP0001018487\n",
    "\n",
    "    - Physician's ID (at least 1 record per person, multiple records for promotions and multiple emails)\n",
    "\n",
    "    - (diverse)\n",
    "\n",
    "\n",
    "- ACCOUNT_TYPE\n",
    "    - Account type\n",
    "\n",
    "    - Specifies the account type of the customer's email address.\n",
    "    \n",
    "    - Private, Klinic (clinic), Nicht eindeutig (ambiguous)\n",
    "    \n",
    " \n",
    "- EMAIL_ID\n",
    "    - ID1\n",
    "    - Email ID that can be used to uniquely identify an email. The same emails have the same ID\n",
    "    -  ID1, ID2,....ID120\n",
    "\n",
    "- DELIVERY_STATUS\n",
    "    - sent\n",
    "    - Delivery Status of email\n",
    "    - Sent, opened, clicked, failed\n",
    "\n",
    "- PRODUKT\n",
    "    - Produkt1\n",
    "    - Product Name\n",
    "    - Produkt 1, Produkt 2,...Produkt 6\n",
    " \n",
    "- DATUM_ID\n",
    "    - 20190109\n",
    "    - Email activity date, format YYYYMMDD (can be NULL)\n",
    "    - (diverse)\n",
    "  \n",
    "- DAY\n",
    "    - 09.01.2019 21:00\n",
    "    - Date and time of the email activity, format DD.MM.YYYY HH: MM (can be NULL) The times are always rounded to the hour\n",
    "    - (diverse)\n",
    "\n",
    "\n",
    "\n",
    "\n"
   ]
  },
  {
   "cell_type": "code",
   "execution_count": 50,
   "metadata": {},
   "outputs": [],
   "source": [
    "df_account = pd.read_excel('Account_Cluster.xlsx')\n"
   ]
  },
  {
   "cell_type": "code",
   "execution_count": 51,
   "metadata": {},
   "outputs": [],
   "source": [
    "def get_hcp_id(row):\n",
    "    return row['HCP_ID;ACCOUNT_TYPE'].split(';')[0]\n",
    "\n",
    "def get_account_type(row):\n",
    "    return row['HCP_ID;ACCOUNT_TYPE'].split(';')[1]\n",
    "\n",
    "df_account['HCP_ID'] = df_account.apply(get_hcp_id, axis=1)\n",
    "df_account['ACCOUNT_TYPE'] = df_account.apply(get_account_type, axis=1)\n",
    "df_account.drop(columns=['HCP_ID;ACCOUNT_TYPE'], inplace=True)\n"
   ]
  },
  {
   "cell_type": "code",
   "execution_count": 52,
   "metadata": {},
   "outputs": [
    {
     "data": {
      "text/html": [
       "<div>\n",
       "<style scoped>\n",
       "    .dataframe tbody tr th:only-of-type {\n",
       "        vertical-align: middle;\n",
       "    }\n",
       "\n",
       "    .dataframe tbody tr th {\n",
       "        vertical-align: top;\n",
       "    }\n",
       "\n",
       "    .dataframe thead th {\n",
       "        text-align: right;\n",
       "    }\n",
       "</style>\n",
       "<table border=\"1\" class=\"dataframe\">\n",
       "  <thead>\n",
       "    <tr style=\"text-align: right;\">\n",
       "      <th></th>\n",
       "      <th>HCP_ID</th>\n",
       "      <th>ACCOUNT_TYPE</th>\n",
       "    </tr>\n",
       "  </thead>\n",
       "  <tbody>\n",
       "    <tr>\n",
       "      <th>0</th>\n",
       "      <td>HCP0001018487</td>\n",
       "      <td>private</td>\n",
       "    </tr>\n",
       "    <tr>\n",
       "      <th>1</th>\n",
       "      <td>HCP0001006058</td>\n",
       "      <td>private</td>\n",
       "    </tr>\n",
       "    <tr>\n",
       "      <th>2</th>\n",
       "      <td>HCP0001013999</td>\n",
       "      <td>private</td>\n",
       "    </tr>\n",
       "    <tr>\n",
       "      <th>3</th>\n",
       "      <td>HCP0001002071</td>\n",
       "      <td>private</td>\n",
       "    </tr>\n",
       "    <tr>\n",
       "      <th>4</th>\n",
       "      <td>HCP0001008572</td>\n",
       "      <td>private</td>\n",
       "    </tr>\n",
       "    <tr>\n",
       "      <th>...</th>\n",
       "      <td>...</td>\n",
       "      <td>...</td>\n",
       "    </tr>\n",
       "    <tr>\n",
       "      <th>17040</th>\n",
       "      <td>HCP0001014874</td>\n",
       "      <td>klinik</td>\n",
       "    </tr>\n",
       "    <tr>\n",
       "      <th>17041</th>\n",
       "      <td>HCP0001005716</td>\n",
       "      <td>nicht eindeutig</td>\n",
       "    </tr>\n",
       "    <tr>\n",
       "      <th>17042</th>\n",
       "      <td>HCP0001005735</td>\n",
       "      <td>nicht eindeutig</td>\n",
       "    </tr>\n",
       "    <tr>\n",
       "      <th>17043</th>\n",
       "      <td>HCP0001005065</td>\n",
       "      <td>praxis</td>\n",
       "    </tr>\n",
       "    <tr>\n",
       "      <th>17044</th>\n",
       "      <td>HCP0001014715</td>\n",
       "      <td>nicht eindeutig</td>\n",
       "    </tr>\n",
       "  </tbody>\n",
       "</table>\n",
       "<p>17045 rows × 2 columns</p>\n",
       "</div>"
      ],
      "text/plain": [
       "              HCP_ID     ACCOUNT_TYPE\n",
       "0      HCP0001018487          private\n",
       "1      HCP0001006058          private\n",
       "2      HCP0001013999          private\n",
       "3      HCP0001002071          private\n",
       "4      HCP0001008572          private\n",
       "...              ...              ...\n",
       "17040  HCP0001014874           klinik\n",
       "17041  HCP0001005716  nicht eindeutig\n",
       "17042  HCP0001005735  nicht eindeutig\n",
       "17043  HCP0001005065           praxis\n",
       "17044  HCP0001014715  nicht eindeutig\n",
       "\n",
       "[17045 rows x 2 columns]"
      ]
     },
     "execution_count": 52,
     "metadata": {},
     "output_type": "execute_result"
    }
   ],
   "source": [
    "df_account"
   ]
  },
  {
   "cell_type": "code",
   "execution_count": 56,
   "metadata": {},
   "outputs": [
    {
     "data": {
      "text/plain": [
       "(17045, 2)"
      ]
     },
     "execution_count": 56,
     "metadata": {},
     "output_type": "execute_result"
    }
   ],
   "source": [
    "df_account.shape"
   ]
  },
  {
   "cell_type": "code",
   "execution_count": 53,
   "metadata": {},
   "outputs": [],
   "source": [
    "df_email_performance = pd.read_csv('EMail_Performance.csv', delimiter=';')\n"
   ]
  },
  {
   "cell_type": "code",
   "execution_count": 54,
   "metadata": {},
   "outputs": [],
   "source": [
    "df_email_performance['DATE'] = pd.to_datetime(df_email_performance['DATUM_ID'], format=\"%Y%m%d\")\n",
    "df_email_performance['DATE_TIME'] = pd.to_datetime(df_email_performance['DAY'], format=\"%d.%m.%Y %H:%M\")\n",
    "\n",
    "# df_email_performance['DATE_TIME'].dt.hour.unique()\n"
   ]
  },
  {
   "cell_type": "code",
   "execution_count": 55,
   "metadata": {},
   "outputs": [
    {
     "data": {
      "text/html": [
       "<div>\n",
       "<style scoped>\n",
       "    .dataframe tbody tr th:only-of-type {\n",
       "        vertical-align: middle;\n",
       "    }\n",
       "\n",
       "    .dataframe tbody tr th {\n",
       "        vertical-align: top;\n",
       "    }\n",
       "\n",
       "    .dataframe thead th {\n",
       "        text-align: right;\n",
       "    }\n",
       "</style>\n",
       "<table border=\"1\" class=\"dataframe\">\n",
       "  <thead>\n",
       "    <tr style=\"text-align: right;\">\n",
       "      <th></th>\n",
       "      <th>HCP_ID</th>\n",
       "      <th>EMAIL_ID</th>\n",
       "      <th>DELIVERY_STATUS</th>\n",
       "      <th>PRODUKT</th>\n",
       "      <th>DATUM_ID</th>\n",
       "      <th>DAY</th>\n",
       "      <th>DATE</th>\n",
       "      <th>DATE_TIME</th>\n",
       "    </tr>\n",
       "  </thead>\n",
       "  <tbody>\n",
       "    <tr>\n",
       "      <th>0</th>\n",
       "      <td>HCP0001001023</td>\n",
       "      <td>ID1</td>\n",
       "      <td>sent</td>\n",
       "      <td>Produkt 1</td>\n",
       "      <td>20190109</td>\n",
       "      <td>09.01.2019 21:00</td>\n",
       "      <td>2019-01-09</td>\n",
       "      <td>2019-01-09 21:00:00</td>\n",
       "    </tr>\n",
       "    <tr>\n",
       "      <th>1</th>\n",
       "      <td>HCP0001001024</td>\n",
       "      <td>ID2</td>\n",
       "      <td>opened</td>\n",
       "      <td>Produkt 1</td>\n",
       "      <td>20181024</td>\n",
       "      <td>24.10.2018 01:00</td>\n",
       "      <td>2018-10-24</td>\n",
       "      <td>2018-10-24 01:00:00</td>\n",
       "    </tr>\n",
       "    <tr>\n",
       "      <th>2</th>\n",
       "      <td>HCP0001001025</td>\n",
       "      <td>ID3</td>\n",
       "      <td>sent</td>\n",
       "      <td>Produkt 2</td>\n",
       "      <td>20181130</td>\n",
       "      <td>30.11.2018 13:00</td>\n",
       "      <td>2018-11-30</td>\n",
       "      <td>2018-11-30 13:00:00</td>\n",
       "    </tr>\n",
       "    <tr>\n",
       "      <th>3</th>\n",
       "      <td>HCP0001001026</td>\n",
       "      <td>ID4</td>\n",
       "      <td>opened</td>\n",
       "      <td>Produkt 3</td>\n",
       "      <td>20181119</td>\n",
       "      <td>19.11.2018 14:00</td>\n",
       "      <td>2018-11-19</td>\n",
       "      <td>2018-11-19 14:00:00</td>\n",
       "    </tr>\n",
       "    <tr>\n",
       "      <th>4</th>\n",
       "      <td>HCP0001001027</td>\n",
       "      <td>ID5</td>\n",
       "      <td>opened</td>\n",
       "      <td>Produkt 4</td>\n",
       "      <td>20181213</td>\n",
       "      <td>13.12.2018 14:00</td>\n",
       "      <td>2018-12-13</td>\n",
       "      <td>2018-12-13 14:00:00</td>\n",
       "    </tr>\n",
       "  </tbody>\n",
       "</table>\n",
       "</div>"
      ],
      "text/plain": [
       "          HCP_ID EMAIL_ID DELIVERY_STATUS    PRODUKT  DATUM_ID  \\\n",
       "0  HCP0001001023      ID1            sent  Produkt 1  20190109   \n",
       "1  HCP0001001024      ID2          opened  Produkt 1  20181024   \n",
       "2  HCP0001001025      ID3            sent  Produkt 2  20181130   \n",
       "3  HCP0001001026      ID4          opened  Produkt 3  20181119   \n",
       "4  HCP0001001027      ID5          opened  Produkt 4  20181213   \n",
       "\n",
       "                DAY       DATE           DATE_TIME  \n",
       "0  09.01.2019 21:00 2019-01-09 2019-01-09 21:00:00  \n",
       "1  24.10.2018 01:00 2018-10-24 2018-10-24 01:00:00  \n",
       "2  30.11.2018 13:00 2018-11-30 2018-11-30 13:00:00  \n",
       "3  19.11.2018 14:00 2018-11-19 2018-11-19 14:00:00  \n",
       "4  13.12.2018 14:00 2018-12-13 2018-12-13 14:00:00  "
      ]
     },
     "execution_count": 55,
     "metadata": {},
     "output_type": "execute_result"
    }
   ],
   "source": [
    "df_email_performance.head()\n"
   ]
  },
  {
   "cell_type": "code",
   "execution_count": 57,
   "metadata": {},
   "outputs": [
    {
     "data": {
      "text/plain": [
       "(359777, 8)"
      ]
     },
     "execution_count": 57,
     "metadata": {},
     "output_type": "execute_result"
    }
   ],
   "source": [
    "df_email_performance.shape\n"
   ]
  },
  {
   "cell_type": "code",
   "execution_count": 59,
   "metadata": {},
   "outputs": [
    {
     "data": {
      "text/plain": [
       "18841"
      ]
     },
     "execution_count": 59,
     "metadata": {},
     "output_type": "execute_result"
    }
   ],
   "source": [
    "len(df_email_performance['HCP_ID'].unique())\n"
   ]
  },
  {
   "cell_type": "code",
   "execution_count": 60,
   "metadata": {},
   "outputs": [
    {
     "data": {
      "text/plain": [
       "17045"
      ]
     },
     "execution_count": 60,
     "metadata": {},
     "output_type": "execute_result"
    }
   ],
   "source": [
    "len(df_account['HCP_ID'].unique())\n"
   ]
  },
  {
   "cell_type": "code",
   "execution_count": 61,
   "metadata": {},
   "outputs": [],
   "source": [
    "df = pd.merge(df_account, df_email_performance, on='HCP_ID', how='right')\n"
   ]
  },
  {
   "cell_type": "code",
   "execution_count": 62,
   "metadata": {},
   "outputs": [
    {
     "data": {
      "text/plain": [
       "(359777, 9)"
      ]
     },
     "execution_count": 62,
     "metadata": {},
     "output_type": "execute_result"
    }
   ],
   "source": [
    "df.shape\n"
   ]
  },
  {
   "cell_type": "code",
   "execution_count": 63,
   "metadata": {},
   "outputs": [
    {
     "data": {
      "text/html": [
       "<div>\n",
       "<style scoped>\n",
       "    .dataframe tbody tr th:only-of-type {\n",
       "        vertical-align: middle;\n",
       "    }\n",
       "\n",
       "    .dataframe tbody tr th {\n",
       "        vertical-align: top;\n",
       "    }\n",
       "\n",
       "    .dataframe thead th {\n",
       "        text-align: right;\n",
       "    }\n",
       "</style>\n",
       "<table border=\"1\" class=\"dataframe\">\n",
       "  <thead>\n",
       "    <tr style=\"text-align: right;\">\n",
       "      <th></th>\n",
       "      <th>HCP_ID</th>\n",
       "      <th>ACCOUNT_TYPE</th>\n",
       "      <th>EMAIL_ID</th>\n",
       "      <th>DELIVERY_STATUS</th>\n",
       "      <th>PRODUKT</th>\n",
       "      <th>DATUM_ID</th>\n",
       "      <th>DAY</th>\n",
       "      <th>DATE</th>\n",
       "      <th>DATE_TIME</th>\n",
       "    </tr>\n",
       "  </thead>\n",
       "  <tbody>\n",
       "    <tr>\n",
       "      <th>0</th>\n",
       "      <td>HCP0001018487</td>\n",
       "      <td>private</td>\n",
       "      <td>ID51</td>\n",
       "      <td>sent</td>\n",
       "      <td>Produkt 1</td>\n",
       "      <td>20170307</td>\n",
       "      <td>07.03.2017 11:00</td>\n",
       "      <td>2017-03-07</td>\n",
       "      <td>2017-03-07 11:00:00</td>\n",
       "    </tr>\n",
       "    <tr>\n",
       "      <th>1</th>\n",
       "      <td>HCP0001006058</td>\n",
       "      <td>private</td>\n",
       "      <td>ID11</td>\n",
       "      <td>sent</td>\n",
       "      <td>Produkt 6</td>\n",
       "      <td>20180516</td>\n",
       "      <td>16.05.2018 14:00</td>\n",
       "      <td>2018-05-16</td>\n",
       "      <td>2018-05-16 14:00:00</td>\n",
       "    </tr>\n",
       "    <tr>\n",
       "      <th>2</th>\n",
       "      <td>HCP0001006058</td>\n",
       "      <td>private</td>\n",
       "      <td>ID26</td>\n",
       "      <td>opened</td>\n",
       "      <td>Produkt 4</td>\n",
       "      <td>20181212</td>\n",
       "      <td>12.12.2018 15:00</td>\n",
       "      <td>2018-12-12</td>\n",
       "      <td>2018-12-12 15:00:00</td>\n",
       "    </tr>\n",
       "    <tr>\n",
       "      <th>3</th>\n",
       "      <td>HCP0001006058</td>\n",
       "      <td>private</td>\n",
       "      <td>ID26</td>\n",
       "      <td>opened</td>\n",
       "      <td>Produkt 4</td>\n",
       "      <td>20181213</td>\n",
       "      <td>13.12.2018 17:00</td>\n",
       "      <td>2018-12-13</td>\n",
       "      <td>2018-12-13 17:00:00</td>\n",
       "    </tr>\n",
       "    <tr>\n",
       "      <th>4</th>\n",
       "      <td>HCP0001006058</td>\n",
       "      <td>private</td>\n",
       "      <td>ID16</td>\n",
       "      <td>opened</td>\n",
       "      <td>Produkt 5</td>\n",
       "      <td>20181113</td>\n",
       "      <td>13.11.2018 19:00</td>\n",
       "      <td>2018-11-13</td>\n",
       "      <td>2018-11-13 19:00:00</td>\n",
       "    </tr>\n",
       "  </tbody>\n",
       "</table>\n",
       "</div>"
      ],
      "text/plain": [
       "          HCP_ID ACCOUNT_TYPE EMAIL_ID DELIVERY_STATUS    PRODUKT  DATUM_ID  \\\n",
       "0  HCP0001018487      private     ID51            sent  Produkt 1  20170307   \n",
       "1  HCP0001006058      private     ID11            sent  Produkt 6  20180516   \n",
       "2  HCP0001006058      private     ID26          opened  Produkt 4  20181212   \n",
       "3  HCP0001006058      private     ID26          opened  Produkt 4  20181213   \n",
       "4  HCP0001006058      private     ID16          opened  Produkt 5  20181113   \n",
       "\n",
       "                DAY       DATE           DATE_TIME  \n",
       "0  07.03.2017 11:00 2017-03-07 2017-03-07 11:00:00  \n",
       "1  16.05.2018 14:00 2018-05-16 2018-05-16 14:00:00  \n",
       "2  12.12.2018 15:00 2018-12-12 2018-12-12 15:00:00  \n",
       "3  13.12.2018 17:00 2018-12-13 2018-12-13 17:00:00  \n",
       "4  13.11.2018 19:00 2018-11-13 2018-11-13 19:00:00  "
      ]
     },
     "execution_count": 63,
     "metadata": {},
     "output_type": "execute_result"
    }
   ],
   "source": [
    "df.head()\n"
   ]
  },
  {
   "cell_type": "code",
   "execution_count": null,
   "metadata": {},
   "outputs": [],
   "source": []
  },
  {
   "cell_type": "code",
   "execution_count": null,
   "metadata": {},
   "outputs": [],
   "source": []
  },
  {
   "cell_type": "code",
   "execution_count": null,
   "metadata": {},
   "outputs": [],
   "source": []
  },
  {
   "cell_type": "code",
   "execution_count": null,
   "metadata": {},
   "outputs": [],
   "source": []
  },
  {
   "cell_type": "code",
   "execution_count": null,
   "metadata": {},
   "outputs": [],
   "source": []
  },
  {
   "cell_type": "code",
   "execution_count": null,
   "metadata": {},
   "outputs": [],
   "source": []
  },
  {
   "cell_type": "code",
   "execution_count": null,
   "metadata": {},
   "outputs": [],
   "source": []
  },
  {
   "cell_type": "code",
   "execution_count": null,
   "metadata": {},
   "outputs": [],
   "source": []
  },
  {
   "cell_type": "code",
   "execution_count": null,
   "metadata": {},
   "outputs": [],
   "source": []
  },
  {
   "cell_type": "code",
   "execution_count": null,
   "metadata": {},
   "outputs": [],
   "source": []
  }
 ],
 "metadata": {
  "kernelspec": {
   "display_name": "Python 3",
   "language": "python",
   "name": "python3"
  },
  "language_info": {
   "codemirror_mode": {
    "name": "ipython",
    "version": 3
   },
   "file_extension": ".py",
   "mimetype": "text/x-python",
   "name": "python",
   "nbconvert_exporter": "python",
   "pygments_lexer": "ipython3",
   "version": "3.7.6"
  },
  "toc": {
   "base_numbering": 1,
   "nav_menu": {},
   "number_sections": true,
   "sideBar": true,
   "skip_h1_title": false,
   "title_cell": "Table of Contents",
   "title_sidebar": "Contents",
   "toc_cell": false,
   "toc_position": {},
   "toc_section_display": true,
   "toc_window_display": false
  }
 },
 "nbformat": 4,
 "nbformat_minor": 4
}
